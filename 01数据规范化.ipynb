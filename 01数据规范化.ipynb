{
 "cells": [
  {
   "cell_type": "code",
   "execution_count": 1,
   "metadata": {
    "collapsed": false
   },
   "outputs": [],
   "source": [
    "import numpy as np\n",
    "from IPython.display import display\n",
    "from sklearn import preprocessing"
   ]
  },
  {
   "cell_type": "code",
   "execution_count": 4,
   "metadata": {
    "collapsed": false,
    "scrolled": true
   },
   "outputs": [
    {
     "data": {
      "text/plain": [
       "array([[ 1, -3,  1],\n",
       "       [ 1, -1,  0],\n",
       "       [ 0,  2,  1]])"
      ]
     },
     "metadata": {},
     "output_type": "display_data"
    }
   ],
   "source": [
    "x = np.array(np.random.randint(-3,3,9).reshape(3,3))\n",
    "display(x)"
   ]
  },
  {
   "cell_type": "markdown",
   "metadata": {},
   "source": [
    "## Min-Max规范化：将原始数据变换到【0,1】空间\n",
    "** 公式：新数值 = （原数值 - 最小值）/（最大值 - 最小值）\n",
    "* 按列计算"
   ]
  },
  {
   "cell_type": "code",
   "execution_count": 5,
   "metadata": {
    "collapsed": false
   },
   "outputs": [
    {
     "data": {
      "text/plain": [
       "array([[1. , 0. , 1. ],\n",
       "       [1. , 0.4, 0. ],\n",
       "       [0. , 1. , 1. ]])"
      ]
     },
     "metadata": {},
     "output_type": "display_data"
    }
   ],
   "source": [
    "min_max_scaler = preprocessing.MinMaxScaler()\n",
    "minmax_x = min_max_scaler.fit_transform(x)\n",
    "display(minmax_x)"
   ]
  },
  {
   "cell_type": "markdown",
   "metadata": {},
   "source": [
    "## Z-Score规范化：将原始数据规范到同一标准进行比较\n",
    "** 在scikit-learn库中使用preprocessing.scale()函数，可以直接将给定数据进行Z-Score规范化\n",
    "\n",
    "** 公式：新数值 = （原数值 - 均值）/（标准差）"
   ]
  },
  {
   "cell_type": "code",
   "execution_count": 6,
   "metadata": {
    "collapsed": false
   },
   "outputs": [
    {
     "data": {
      "text/plain": [
       "array([[ 0.70710678, -1.13554995,  0.70710678],\n",
       "       [ 0.70710678, -0.16222142, -1.41421356],\n",
       "       [-1.41421356,  1.29777137,  0.70710678]])"
      ]
     },
     "metadata": {},
     "output_type": "display_data"
    }
   ],
   "source": [
    "scaled_x = preprocessing.scale(x)\n",
    "display(scaled_x)"
   ]
  },
  {
   "cell_type": "markdown",
   "metadata": {},
   "source": [
    "## 小数定标规范化：移动小数点位置进行规范化\n",
    "** 新数值 = 原数值 / 10的x次方  --x看原数值的最大值的绝对值有几位数"
   ]
  },
  {
   "cell_type": "code",
   "execution_count": 14,
   "metadata": {
    "collapsed": false
   },
   "outputs": [
    {
     "data": {
      "text/plain": [
       "array([[ 0,  1, -3],\n",
       "       [-1, -3,  1],\n",
       "       [ 2,  2,  0]])"
      ]
     },
     "metadata": {},
     "output_type": "display_data"
    }
   ],
   "source": [
    "y = np.array(np.random.randint(-3,3,9).reshape(3,3))\n",
    "display(y)"
   ]
  },
  {
   "cell_type": "code",
   "execution_count": 18,
   "metadata": {
    "collapsed": false
   },
   "outputs": [
    {
     "data": {
      "text/plain": [
       "1.0"
      ]
     },
     "metadata": {},
     "output_type": "display_data"
    },
    {
     "data": {
      "text/plain": [
       "array([[ 0. ,  0.1, -0.3],\n",
       "       [-0.1, -0.3,  0.1],\n",
       "       [ 0.2,  0.2,  0. ]])"
      ]
     },
     "metadata": {},
     "output_type": "display_data"
    }
   ],
   "source": [
    "j = np.ceil(np.log10(np.max(abs(y))))  # 向上取整\n",
    "display(j)\n",
    "a = y / (10**j)\n",
    "display(a)"
   ]
  },
  {
   "cell_type": "markdown",
   "metadata": {},
   "source": [
    "### 假设属性income最小值为5000，最大值为58000，属性income为16000元被转化为多少？用min-max规范化方法"
   ]
  },
  {
   "cell_type": "code",
   "execution_count": 7,
   "metadata": {
    "collapsed": false
   },
   "outputs": [
    {
     "data": {
      "text/plain": [
       "array([[ 5000],\n",
       "       [16000],\n",
       "       [58000]])"
      ]
     },
     "metadata": {},
     "output_type": "display_data"
    },
    {
     "data": {
      "text/plain": [
       "array([[0.        ],\n",
       "       [0.20754717],\n",
       "       [1.        ]])"
      ]
     },
     "metadata": {},
     "output_type": "display_data"
    }
   ],
   "source": [
    "dn = np.array([[5000],[16000],[58000]])\n",
    "display(dn)\n",
    "min_max_sacler = preprocessing.MinMaxScaler()\n",
    "x = min_max_scaler.fit_transform(dn)\n",
    "display(x)"
   ]
  },
  {
   "cell_type": "code",
   "execution_count": null,
   "metadata": {
    "collapsed": true
   },
   "outputs": [],
   "source": []
  }
 ],
 "metadata": {
  "anaconda-cloud": {},
  "kernelspec": {
   "display_name": "Python [default]",
   "language": "python",
   "name": "python3"
  },
  "language_info": {
   "codemirror_mode": {
    "name": "ipython",
    "version": 3
   },
   "file_extension": ".py",
   "mimetype": "text/x-python",
   "name": "python",
   "nbconvert_exporter": "python",
   "pygments_lexer": "ipython3",
   "version": "3.5.2"
  }
 },
 "nbformat": 4,
 "nbformat_minor": 1
}
